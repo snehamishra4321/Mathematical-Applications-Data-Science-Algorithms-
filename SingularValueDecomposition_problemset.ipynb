{
 "cells": [
  {
   "cell_type": "code",
   "execution_count": 1,
   "id": "83729c33",
   "metadata": {},
   "outputs": [
    {
     "name": "stdout",
     "output_type": "stream",
     "text": [
      "L2 Dist :  95.73321817684048\n"
     ]
    }
   ],
   "source": [
    "import numpy as np\n",
    "\n",
    "# Dimension\n",
    "d = 3\n",
    "\n",
    "# No: of Data points\n",
    "m = 5\n",
    "\n",
    "# Data points\n",
    "x = [[1,2,3],[-1,0,-3], [2,5,6],[4, -1, 0], [9, 2, -5]]\n",
    "\n",
    "# K\n",
    "k = 2\n",
    "\n",
    "# W -> K dimensional Linear subspace\n",
    "W = np.matrix([[10,0,0],[0,10,0]])\n",
    "\n",
    "# calculate l2 dist (x, W)\n",
    "sum_ = 0\n",
    "\n",
    "for i in range(m):\n",
    "    norm_sum = 0\n",
    "    for j in range(k):\n",
    "        norm_sum += np.linalg.norm(x[i]-W[j])\n",
    "#     norm_sum = 5\n",
    "    sum_ += norm_sum\n",
    "\n",
    "print(\"L2 Dist : \",sum_)"
   ]
  },
  {
   "cell_type": "code",
   "execution_count": 2,
   "id": "fdfd0796",
   "metadata": {},
   "outputs": [],
   "source": [
    "U, s, V = np.linalg.svd(np.matrix(x))"
   ]
  },
  {
   "cell_type": "code",
   "execution_count": 3,
   "id": "6992a25f",
   "metadata": {},
   "outputs": [
    {
     "name": "stdout",
     "output_type": "stream",
     "text": [
      "New L2 Dist :  57.86375286666308\n"
     ]
    }
   ],
   "source": [
    "# sum_ will be minimal when W = First two left singular vectors of U\n",
    "\n",
    "W_ = U[:1,:]\n",
    "\n",
    "sum_ = 0\n",
    "\n",
    "for i in range(m):\n",
    "    norm_sum = 0\n",
    "    for j in range(k):\n",
    "        norm_sum += np.linalg.norm(x[i]-W_.T[j])\n",
    "    sum_ += norm_sum\n",
    "\n",
    "print(\"New L2 Dist : \",sum_)"
   ]
  },
  {
   "cell_type": "markdown",
   "id": "d2edb491",
   "metadata": {},
   "source": [
    "Hence verified that the minimum will happen when the K basis are selected such that they are same as the first K left singular vectors of the data points X."
   ]
  }
 ],
 "metadata": {
  "kernelspec": {
   "display_name": "base",
   "language": "python",
   "name": "python3"
  },
  "language_info": {
   "codemirror_mode": {
    "name": "ipython",
    "version": 3
   },
   "file_extension": ".py",
   "mimetype": "text/x-python",
   "name": "python",
   "nbconvert_exporter": "python",
   "pygments_lexer": "ipython3",
   "version": "3.9.12"
  },
  "vscode": {
   "interpreter": {
    "hash": "ec82f12a2cb47047b534e9c669340dcebb498bf61f15a6577c32df05515dbebf"
   }
  }
 },
 "nbformat": 4,
 "nbformat_minor": 5
}
