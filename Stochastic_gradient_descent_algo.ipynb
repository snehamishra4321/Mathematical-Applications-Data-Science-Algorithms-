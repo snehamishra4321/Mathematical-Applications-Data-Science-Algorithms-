{
 "cells": [
  {
   "cell_type": "markdown",
   "id": "9f821a07",
   "metadata": {},
   "source": [
    "### Math 677 - Assignment 8 Question 5\n",
    "### Name : Sneha Mishra\n",
    "### UIN : 733000826"
   ]
  },
  {
   "cell_type": "code",
   "execution_count": 1,
   "id": "f3d7ce24",
   "metadata": {},
   "outputs": [],
   "source": [
    "# Import libraries\n",
    "import numpy as np\n",
    "import pandas as pd\n",
    "import matplotlib.pyplot as plt"
   ]
  },
  {
   "cell_type": "code",
   "execution_count": 2,
   "id": "6ab9663d",
   "metadata": {},
   "outputs": [],
   "source": [
    "# Define the data\n",
    "m = 50\n",
    "n = 32\n",
    "A = np.random.normal(0,1,(m,n))\n",
    "y = np.random.rand(m)\n",
    "\n",
    "# Initialization\n",
    "x_0 = np.zeros(n)\n",
    "\n",
    "# Parameters of Algorithm\n",
    "max_step = 10000\n",
    "alpha = 0.001\n",
    "\n",
    "# Optimal X\n",
    "x_star = np.linalg.solve(A.T@A, A.T@y)"
   ]
  },
  {
   "cell_type": "code",
   "execution_count": 3,
   "id": "7bd49ec2",
   "metadata": {},
   "outputs": [],
   "source": [
    "# Function to calculate Stochastic Gradient\n",
    "def stochastic_grad(A,x,y):\n",
    "    \n",
    "    epsilon = np.random.randint(0, m)\n",
    "    return 2 * A[epsilon] * (A[epsilon]@x -y[epsilon])"
   ]
  },
  {
   "cell_type": "code",
   "execution_count": 4,
   "id": "25f35e54",
   "metadata": {},
   "outputs": [
    {
     "data": {
      "text/plain": [
       "Text(0.5, 1.0, 'Stochastic Gradient Descent')"
      ]
     },
     "execution_count": 4,
     "metadata": {},
     "output_type": "execute_result"
    },
    {
     "data": {
      "image/png": "[encoded data removed]",
      "text/plain": [
       "<Figure size 432x288 with 1 Axes>"
      ]
     },
     "metadata": {
      "needs_background": "light"
     },
     "output_type": "display_data"
    }
   ],
   "source": [
    "# Stochastic Gradient Descent Algorithm\n",
    "x_t = x_0\n",
    "error = []\n",
    "for step in range(max_step):\n",
    "    \n",
    "    # Calculate X_t+1\n",
    "    x_t1 = x_t - alpha * stochastic_grad(A,x_t,y)\n",
    "    \n",
    "    # Update X_t\n",
    "    x_t = x_t1\n",
    "    \n",
    "    # Append Error \n",
    "    error.append(np.linalg.norm(x_star-x_t1))\n",
    "\n",
    "# Plot the error\n",
    "plt.plot(error)\n",
    "plt.xlabel(\"Iterations\")\n",
    "plt.ylabel(\"Error\")\n",
    "plt.title('Stochastic Gradient Descent')"
   ]
  }
 ],
 "metadata": {
  "kernelspec": {
   "display_name": "Python 3.9.12 ('base')",
   "language": "python",
   "name": "python3"
  },
  "language_info": {
   "codemirror_mode": {
    "name": "ipython",
    "version": 3
   },
   "file_extension": ".py",
   "mimetype": "text/x-python",
   "name": "python",
   "nbconvert_exporter": "python",
   "pygments_lexer": "ipython3",
   "version": "3.9.12"
  },
  "vscode": {
   "interpreter": {
    "hash": "ec82f12a2cb47047b534e9c669340dcebb498bf61f15a6577c32df05515dbebf"
   }
  }
 },
 "nbformat": 4,
 "nbformat_minor": 5
}
