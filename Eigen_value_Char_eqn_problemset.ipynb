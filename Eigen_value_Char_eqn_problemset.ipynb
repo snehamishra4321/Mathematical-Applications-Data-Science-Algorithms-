{
 "cells": [
  {
   "cell_type": "code",
   "execution_count": 54,
   "id": "c47bab2e",
   "metadata": {},
   "outputs": [],
   "source": [
    "import numpy as np"
   ]
  },
  {
   "cell_type": "code",
   "execution_count": 55,
   "id": "5548fb5a",
   "metadata": {},
   "outputs": [
    {
     "name": "stdout",
     "output_type": "stream",
     "text": [
      "[0. 0. 0. 0.]\n"
     ]
    }
   ],
   "source": [
    "# In the below code, various values of x1,x2,...,xn will be tried\n",
    "\n",
    "# Case 1 : \n",
    "x = np.array([0,0,0])\n",
    "A = np.zeros((len(x)+1,len(x)+1))\n",
    "for i in range(len(x)):\n",
    "    A[i][len(x)] = x[i]\n",
    "    A[len(x)][i] = x[i]\n",
    "eig_val, eig_vec = np.linalg.eig(A) \n",
    "print(eig_val)"
   ]
  },
  {
   "cell_type": "code",
   "execution_count": 56,
   "id": "c4e9b0c4",
   "metadata": {},
   "outputs": [
    {
     "name": "stdout",
     "output_type": "stream",
     "text": [
      "[ 1. -1.  0.  0.]\n"
     ]
    }
   ],
   "source": [
    "# Case 2 : \n",
    "x = np.array([0,0,1])\n",
    "A = np.zeros((len(x)+1,len(x)+1))\n",
    "for i in range(len(x)):\n",
    "    A[i][len(x)] = x[i]\n",
    "    A[len(x)][i] = x[i]\n",
    "eig_val, eig_vec = np.linalg.eig(A) \n",
    "print(eig_val)"
   ]
  },
  {
   "cell_type": "code",
   "execution_count": 57,
   "id": "26b99269",
   "metadata": {},
   "outputs": [
    {
     "name": "stdout",
     "output_type": "stream",
     "text": [
      "[ 1. -1.  0.  0.  0.]\n"
     ]
    }
   ],
   "source": [
    "# Case 3 : \n",
    "x = np.array([0,0,0,1])\n",
    "A = np.zeros((len(x)+1,len(x)+1))\n",
    "for i in range(len(x)):\n",
    "    A[i][len(x)] = x[i]\n",
    "    A[len(x)][i] = x[i]\n",
    "eig_val, eig_vec = np.linalg.eig(A) \n",
    "print(eig_val)"
   ]
  },
  {
   "cell_type": "code",
   "execution_count": 68,
   "id": "3b4d77b8",
   "metadata": {},
   "outputs": [
    {
     "name": "stdout",
     "output_type": "stream",
     "text": [
      "[-1.17473401e+01 -4.44089210e-16  1.17473401e+01  0.00000000e+00\n",
      "  0.00000000e+00  0.00000000e+00]\n"
     ]
    }
   ],
   "source": [
    "# Case 4 : \n",
    "x = np.array([3,8,6,2,5])\n",
    "A = np.zeros((len(x)+1,len(x)+1))\n",
    "for i in range(len(x)):\n",
    "    A[i][len(x)] = x[i]\n",
    "    A[len(x)][i] = x[i]\n",
    "eig_val, eig_vec = np.linalg.eig(A) \n",
    "print(eig_val)"
   ]
  },
  {
   "cell_type": "markdown",
   "id": "d829d59a",
   "metadata": {},
   "source": [
    "#### From the above cases - there are (n-2) zeros as eigenvalue for the given matrix. That is the characteristic polynomial is of the form :\n",
    "$ \\lambda^{n-1}(\\lambda^2 + C1\\lambda+ C2)$"
   ]
  },
  {
   "cell_type": "code",
   "execution_count": 69,
   "id": "bbb0403e",
   "metadata": {},
   "outputs": [
    {
     "name": "stdout",
     "output_type": "stream",
     "text": [
      "[ 1. -1.  0.  0.]\n"
     ]
    }
   ],
   "source": [
    "# Case 5 : \n",
    "x = np.array([0,1,0])\n",
    "A = np.zeros((len(x)+1,len(x)+1))\n",
    "for i in range(len(x)):\n",
    "    A[i][len(x)] = x[i]\n",
    "    A[len(x)][i] = x[i]\n",
    "eig_val, eig_vec = np.linalg.eig(A) \n",
    "print(eig_val)"
   ]
  },
  {
   "cell_type": "code",
   "execution_count": 70,
   "id": "a07b78a2",
   "metadata": {},
   "outputs": [
    {
     "name": "stdout",
     "output_type": "stream",
     "text": [
      "[ 1. -1.  0.  0.]\n"
     ]
    }
   ],
   "source": [
    "# Case 6 : \n",
    "x = np.array([1,0,0])\n",
    "A = np.zeros((len(x)+1,len(x)+1))\n",
    "for i in range(len(x)):\n",
    "    A[i][len(x)] = x[i]\n",
    "    A[len(x)][i] = x[i]\n",
    "eig_val, eig_vec = np.linalg.eig(A) \n",
    "print(eig_val)"
   ]
  },
  {
   "cell_type": "code",
   "execution_count": 71,
   "id": "5b5369cd",
   "metadata": {},
   "outputs": [
    {
     "name": "stdout",
     "output_type": "stream",
     "text": [
      "[ 2. -2.  0.  0.]\n"
     ]
    }
   ],
   "source": [
    "# Case 7 : \n",
    "x = np.array([2,0,0])\n",
    "A = np.zeros((len(x)+1,len(x)+1))\n",
    "for i in range(len(x)):\n",
    "    A[i][len(x)] = x[i]\n",
    "    A[len(x)][i] = x[i]\n",
    "eig_val, eig_vec = np.linalg.eig(A) \n",
    "print(eig_val)"
   ]
  },
  {
   "cell_type": "code",
   "execution_count": 72,
   "id": "86f9135a",
   "metadata": {},
   "outputs": [
    {
     "name": "stdout",
     "output_type": "stream",
     "text": [
      "[ 2. -2.  0.  0.]\n"
     ]
    }
   ],
   "source": [
    "# Case 8 : \n",
    "x = np.array([0,2,0])\n",
    "A = np.zeros((len(x)+1,len(x)+1))\n",
    "for i in range(len(x)):\n",
    "    A[i][len(x)] = x[i]\n",
    "    A[len(x)][i] = x[i]\n",
    "eig_val, eig_vec = np.linalg.eig(A) \n",
    "print(eig_val)"
   ]
  },
  {
   "cell_type": "code",
   "execution_count": 73,
   "id": "73267d16",
   "metadata": {},
   "outputs": [
    {
     "name": "stdout",
     "output_type": "stream",
     "text": [
      "[ 2. -2.  0.  0.]\n"
     ]
    }
   ],
   "source": [
    "# Case 9 : \n",
    "x = np.array([0,0,2])\n",
    "A = np.zeros((len(x)+1,len(x)+1))\n",
    "for i in range(len(x)):\n",
    "    A[i][len(x)] = x[i]\n",
    "    A[len(x)][i] = x[i]\n",
    "eig_val, eig_vec = np.linalg.eig(A) \n",
    "print(eig_val)"
   ]
  },
  {
   "cell_type": "markdown",
   "id": "8b71f215",
   "metadata": {},
   "source": [
    "#### From the above cases - the position of the value of $x_i$ doesn't seem to impact the eigen value, hence the coefficients of each power of each xi should be the same"
   ]
  },
  {
   "cell_type": "code",
   "execution_count": 74,
   "id": "3d0632e6",
   "metadata": {
    "scrolled": true
   },
   "outputs": [
    {
     "name": "stdout",
     "output_type": "stream",
     "text": [
      "[ 1. -1.  0.  0.]\n"
     ]
    }
   ],
   "source": [
    "# Case 10 : \n",
    "x = np.array([-1,0,0])\n",
    "A = np.zeros((len(x)+1,len(x)+1))\n",
    "for i in range(len(x)):\n",
    "    A[i][len(x)] = x[i]\n",
    "    A[len(x)][i] = x[i]\n",
    "eig_val, eig_vec = np.linalg.eig(A) \n",
    "print(eig_val)"
   ]
  },
  {
   "cell_type": "code",
   "execution_count": 75,
   "id": "c873131b",
   "metadata": {},
   "outputs": [
    {
     "name": "stdout",
     "output_type": "stream",
     "text": [
      "[-7.07106781e+00 -3.62557206e-16  7.07106781e+00  0.00000000e+00]\n"
     ]
    }
   ],
   "source": [
    "# Case 11 : \n",
    "x = np.array([3,4,5])\n",
    "A = np.zeros((len(x)+1,len(x)+1))\n",
    "for i in range(len(x)):\n",
    "    A[i][len(x)] = x[i]\n",
    "    A[len(x)][i] = x[i]\n",
    "eig_val, eig_vec = np.linalg.eig(A) \n",
    "print(eig_val)"
   ]
  },
  {
   "cell_type": "code",
   "execution_count": 76,
   "id": "3651843e",
   "metadata": {},
   "outputs": [
    {
     "name": "stdout",
     "output_type": "stream",
     "text": [
      "[-7.07106781e+00 -3.62557206e-16  7.07106781e+00  0.00000000e+00]\n"
     ]
    }
   ],
   "source": [
    "# Case 12 : \n",
    "x = np.array([-3,-4,-5])\n",
    "A = np.zeros((len(x)+1,len(x)+1))\n",
    "for i in range(len(x)):\n",
    "    A[i][len(x)] = x[i]\n",
    "    A[len(x)][i] = x[i]\n",
    "eig_val, eig_vec = np.linalg.eig(A) \n",
    "print(eig_val)"
   ]
  },
  {
   "cell_type": "code",
   "execution_count": 77,
   "id": "240d0a26",
   "metadata": {},
   "outputs": [
    {
     "name": "stdout",
     "output_type": "stream",
     "text": [
      "[-7.07106781e+00 -3.62557206e-16  7.07106781e+00  0.00000000e+00]\n"
     ]
    }
   ],
   "source": [
    "# Case 13 : \n",
    "x = np.array([-3,4,5])\n",
    "A = np.zeros((len(x)+1,len(x)+1))\n",
    "for i in range(len(x)):\n",
    "    A[i][len(x)] = x[i]\n",
    "    A[len(x)][i] = x[i]\n",
    "eig_val, eig_vec = np.linalg.eig(A) \n",
    "print(eig_val)"
   ]
  },
  {
   "cell_type": "markdown",
   "id": "d0b216cf",
   "metadata": {},
   "source": [
    "#### From the above cases - the sign of each $x_i$ don't seem to impact the eigen values. Hence $C_1$ and $C_2$ should only contain even powers of x. Also, both the eigen values are of equal magnitude but opposite in sign. Meaning, $-{C_1}^2 =  0 => C_1 = 0$ \n",
    "\n",
    "\n",
    "#### Hence the characteristic equation can be written as :\n",
    "$ \\lambda^{n-1}(\\lambda^2 + C2)$\n"
   ]
  }
 ],
 "metadata": {
  "kernelspec": {
   "display_name": "Python 3",
   "language": "python",
   "name": "python3"
  },
  "language_info": {
   "codemirror_mode": {
    "name": "ipython",
    "version": 3
   },
   "file_extension": ".py",
   "mimetype": "text/x-python",
   "name": "python",
   "nbconvert_exporter": "python",
   "pygments_lexer": "ipython3",
   "version": "3.10.6 (main, Nov 14 2022, 16:10:14) [GCC 11.3.0]"
  },
  "vscode": {
   "interpreter": {
    "hash": "916dbcbb3f70747c44a77c7bcd40155683ae19c65e1c03b4aa3499c5328201f1"
   }
  }
 },
 "nbformat": 4,
 "nbformat_minor": 5
}
